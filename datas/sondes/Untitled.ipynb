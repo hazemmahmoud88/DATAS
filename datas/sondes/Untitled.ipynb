{
 "cells": [
  {
   "cell_type": "markdown",
   "id": "05aa3246-7cf9-481b-b9d8-e4aa9d4b15cb",
   "metadata": {},
   "source": [
    "# PHYS 650 Homework 2\n",
    "Data for this assignment are available in this folder. "
   ]
  },
  {
   "cell_type": "markdown",
   "id": "88a33d0e-9113-4522-bf7f-22fc607ce3eb",
   "metadata": {},
   "source": [
    "---\n",
    "### 1) From the radiosonde file provided, generate a SKew-T plot/diagram. You can use this available, Python resource: https://unidata.github.io/MetPy/latest/api/generated/metpy.plots.SkewT.html"
   ]
  },
  {
   "cell_type": "code",
   "execution_count": null,
   "id": "a93267ec-27f4-43d6-9264-3f3c1206559d",
   "metadata": {},
   "outputs": [],
   "source": [
    "import "
   ]
  },
  {
   "cell_type": "code",
   "execution_count": null,
   "id": "b6dc4222-abc0-4694-a793-a50d9ca0ea09",
   "metadata": {},
   "outputs": [],
   "source": [
    "HUBV_RS41GP_20220316.txt"
   ]
  },
  {
   "cell_type": "code",
   "execution_count": null,
   "id": "7ba801f2-f155-4e4c-b90c-f1947ef3d231",
   "metadata": {},
   "outputs": [],
   "source": []
  }
 ],
 "metadata": {
  "kernelspec": {
   "display_name": "Python 3 (ipykernel)",
   "language": "python",
   "name": "python3"
  },
  "language_info": {
   "codemirror_mode": {
    "name": "ipython",
    "version": 3
   },
   "file_extension": ".py",
   "mimetype": "text/x-python",
   "name": "python",
   "nbconvert_exporter": "python",
   "pygments_lexer": "ipython3",
   "version": "3.9.1"
  }
 },
 "nbformat": 4,
 "nbformat_minor": 5
}
