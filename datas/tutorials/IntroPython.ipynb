{
 "cells": [
  {
   "cell_type": "markdown",
   "id": "40038eb4",
   "metadata": {},
   "source": [
    "### Introduction to Python for Data Science & Analysis\n",
    "\n",
    "#### This notebook will cover the basics need to get start with Python\n",
    "\n",
    "---\n",
    "From this Notebook you should be able to to: \n",
    "- Setup\n",
    "    - Install Annaconda (a Python software package)\n",
    "    - Github & Jupyter Notebook\n",
    "    - Discover how to be self taught\n",
    "- Programming\n",
    "    - Script Design\n",
    "    - Using Functions\n",
    "    - Import a txt file\n",
    "    - Basic Plotting\n",
    "    \n",
    "    \n",
    "##### Author: Maurice Roots (05/08/2022)"
   ]
  },
  {
   "cell_type": "markdown",
   "id": "69346da5",
   "metadata": {},
   "source": [
    "### Setup\n",
    "---"
   ]
  },
  {
   "cell_type": "markdown",
   "id": "121883e9",
   "metadata": {},
   "source": [
    "First you need to dowload the required software. \n",
    "Python is not softawre. It is a language that can be installed on your computer. However, we will install Annaconda so that you will have access to usefull software that works with Python. What we need from Annaconda is scripting environment (Spyder), a terminal to install packages (I'll explain that later), and a way to combine writing & code (jupyter notebook). Yes, this is a jupyter notebook. See how nicely I have combined code and writing? "
   ]
  },
  {
   "cell_type": "markdown",
   "id": "f54b32b1",
   "metadata": {},
   "source": [
    "#### 1) Annaconda\n",
    "To download Annaconda use this link: \n",
    "    - Follow the installation too to completion."
   ]
  },
  {
   "cell_type": "markdown",
   "id": "b1948a99",
   "metadata": {},
   "source": [
    "#### 2) Github\n",
    "Github is a software/company that allows you to easliy share code. Yes this notebook is hosted on my github. \n",
    "\n",
    "First go to github.com create an account. \n",
    "Then download the github desktop client from here \n"
   ]
  },
  {
   "cell_type": "markdown",
   "id": "c1636639",
   "metadata": {},
   "source": [
    "### Programming\n",
    "---\n",
    "Python is a pretty cool programming language. It has a large list a capabilities, but its main draw is that Python is open-source. This means that its maintenance, packages, functionality, and progression are dictated by crowd sourcing. Anyone can write a Python package! Shoot, you found this tutorial nested in a package that I am writing.\n",
    "\n",
    "The syntax of Python is similar to other languages like MATLAB and C++ with differences being that python does not require a \" ; \" at the end of lines, loops n' such do not require a end statement, **commments** are written with \"#\", and variables do not need to be pre-allocatd or declared before assignment. "
   ]
  },
  {
   "cell_type": "code",
   "execution_count": 21,
   "id": "b8e0179d",
   "metadata": {},
   "outputs": [
    {
     "name": "stdout",
     "output_type": "stream",
     "text": [
      "5\n",
      "-1\n",
      "6\n",
      "0.6666666666666666\n",
      "8\n"
     ]
    }
   ],
   "source": [
    "# Python Arithematic \n",
    "a = 2\n",
    "b = 3\n",
    "\n",
    "print(a + b) # Addition\n",
    "print(a - b) # Subtractions\n",
    "print(a*b)   # Multiplication\n",
    "print(a / b) # Division\n",
    "print(a**b)  # Exponetials\n",
    "\n",
    "# Check the ouput with a calculate (or google) to make sure these are correct"
   ]
  },
  {
   "cell_type": "code",
   "execution_count": 22,
   "id": "ba99d6df",
   "metadata": {},
   "outputs": [
    {
     "name": "stdout",
     "output_type": "stream",
     "text": [
      "2\n",
      "1\n",
      "5\n"
     ]
    },
    {
     "ename": "IndexError",
     "evalue": "list index out of range",
     "output_type": "error",
     "traceback": [
      "\u001b[1;31m---------------------------------------------------------------------------\u001b[0m",
      "\u001b[1;31mIndexError\u001b[0m                                Traceback (most recent call last)",
      "\u001b[1;32m~\\AppData\\Local\\Temp/ipykernel_2372/3364730438.py\u001b[0m in \u001b[0;36m<module>\u001b[1;34m\u001b[0m\n\u001b[0;32m      6\u001b[0m \u001b[0mprint\u001b[0m\u001b[1;33m(\u001b[0m\u001b[0mc\u001b[0m\u001b[1;33m[\u001b[0m\u001b[1;36m0\u001b[0m\u001b[1;33m]\u001b[0m\u001b[1;33m)\u001b[0m         \u001b[1;31m# First element of list\u001b[0m\u001b[1;33m\u001b[0m\u001b[1;33m\u001b[0m\u001b[0m\n\u001b[0;32m      7\u001b[0m \u001b[0mprint\u001b[0m\u001b[1;33m(\u001b[0m\u001b[0mc\u001b[0m\u001b[1;33m[\u001b[0m\u001b[1;33m-\u001b[0m\u001b[1;36m1\u001b[0m\u001b[1;33m]\u001b[0m\u001b[1;33m)\u001b[0m        \u001b[1;31m# Last Element of list\u001b[0m\u001b[1;33m\u001b[0m\u001b[1;33m\u001b[0m\u001b[0m\n\u001b[1;32m----> 8\u001b[1;33m \u001b[0mprint\u001b[0m\u001b[1;33m(\u001b[0m\u001b[0mc\u001b[0m\u001b[1;33m[\u001b[0m\u001b[1;36m5\u001b[0m\u001b[1;33m]\u001b[0m\u001b[1;33m)\u001b[0m\u001b[1;33m\u001b[0m\u001b[1;33m\u001b[0m\u001b[0m\n\u001b[0m\u001b[0;32m      9\u001b[0m \u001b[1;33m\u001b[0m\u001b[0m\n\u001b[0;32m     10\u001b[0m \u001b[1;31m# Check these for yourself\u001b[0m\u001b[1;33m\u001b[0m\u001b[1;33m\u001b[0m\u001b[1;33m\u001b[0m\u001b[0m\n",
      "\u001b[1;31mIndexError\u001b[0m: list index out of range"
     ]
    }
   ],
   "source": [
    "# Python Indexing \n",
    "\n",
    "c = [1, 2, 3, 4, 5] # List\n",
    "\n",
    "print(c[1])         # Second element of list\n",
    "print(c[0])         # First element of list\n",
    "print(c[-1])        # Last Element of list\n",
    "print(c[5])\n",
    "\n",
    "# Check these for yourself"
   ]
  },
  {
   "cell_type": "code",
   "execution_count": 23,
   "id": "55d9e530",
   "metadata": {},
   "outputs": [
    {
     "name": "stdout",
     "output_type": "stream",
     "text": [
      "0.667\n",
      "range(2, 10, 2)\n",
      "5\n"
     ]
    }
   ],
   "source": [
    "# USeful Built in Functions \n",
    "print(round(a / b, 3)) # Round a number, round(number, decimal-place)\n",
    "print(range(2, 10, 2)) # Returns a range of even spaced numbers, range(start, stop, spacing)\n",
    "print(len(c))          # Returns the length of input\n",
    "\n",
    "\n",
    "# Check these for yourself to make sure they are correct and make sense"
   ]
  },
  {
   "cell_type": "code",
   "execution_count": null,
   "id": "9c7eac30",
   "metadata": {},
   "outputs": [],
   "source": []
  },
  {
   "cell_type": "markdown",
   "id": "11ae7d46",
   "metadata": {},
   "source": [
    "#### 3) Functions !!!!"
   ]
  },
  {
   "cell_type": "code",
   "execution_count": 41,
   "id": "cb82a0ac",
   "metadata": {},
   "outputs": [
    {
     "data": {
      "text/plain": [
       "3.0"
      ]
     },
     "execution_count": 41,
     "metadata": {},
     "output_type": "execute_result"
    }
   ],
   "source": [
    "def simple_average(some_list):\n",
    "    length = len(some_list)\n",
    "    summation = 0\n",
    "    for i in range(length): \n",
    "        summation += some_list[i]\n",
    "    average = summation / length\n",
    "    return average\n",
    "    \n",
    "simple_average(c)"
   ]
  },
  {
   "cell_type": "code",
   "execution_count": 35,
   "id": "28b36870",
   "metadata": {},
   "outputs": [
    {
     "data": {
      "text/plain": [
       "3.0"
      ]
     },
     "execution_count": 35,
     "metadata": {},
     "output_type": "execute_result"
    }
   ],
   "source": [
    "import numpy as np\n",
    "np.mean(c)"
   ]
  },
  {
   "cell_type": "code",
   "execution_count": 2,
   "id": "39a4be41-b2e8-4871-98e8-004f616d2fe0",
   "metadata": {},
   "outputs": [],
   "source": [
    "import pandas as pd\n",
    "test = pd.DataFrame()"
   ]
  },
  {
   "cell_type": "markdown",
   "id": "f133a9b1",
   "metadata": {},
   "source": [
    "#### 4)  Importing Data"
   ]
  },
  {
   "cell_type": "code",
   "execution_count": 5,
   "id": "2f97e74e-5f9b-41a1-b00e-d4ef2536fb94",
   "metadata": {},
   "outputs": [],
   "source": [
    "data = pd.read_csv(r\"C:\\Users\\Magnolia\\OneDrive - UMBC\\Research\\Analysis\\DATAS\\datas\\tutorials\\data\\ste22001.dat\", sep=\"\\s+\", skiprows=2, header=None)"
   ]
  },
  {
   "cell_type": "code",
   "execution_count": 6,
   "id": "b02498e9-c239-484c-b4e9-c1b1ad494b55",
   "metadata": {},
   "outputs": [
    {
     "data": {
      "text/html": [
       "<div>\n",
       "<style scoped>\n",
       "    .dataframe tbody tr th:only-of-type {\n",
       "        vertical-align: middle;\n",
       "    }\n",
       "\n",
       "    .dataframe tbody tr th {\n",
       "        vertical-align: top;\n",
       "    }\n",
       "\n",
       "    .dataframe thead th {\n",
       "        text-align: right;\n",
       "    }\n",
       "</style>\n",
       "<table border=\"1\" class=\"dataframe\">\n",
       "  <thead>\n",
       "    <tr style=\"text-align: right;\">\n",
       "      <th></th>\n",
       "      <th>0</th>\n",
       "      <th>1</th>\n",
       "      <th>2</th>\n",
       "      <th>3</th>\n",
       "      <th>4</th>\n",
       "      <th>5</th>\n",
       "      <th>6</th>\n",
       "      <th>7</th>\n",
       "      <th>8</th>\n",
       "      <th>9</th>\n",
       "      <th>...</th>\n",
       "      <th>12</th>\n",
       "      <th>13</th>\n",
       "      <th>14</th>\n",
       "      <th>15</th>\n",
       "      <th>16</th>\n",
       "      <th>17</th>\n",
       "      <th>18</th>\n",
       "      <th>19</th>\n",
       "      <th>20</th>\n",
       "      <th>21</th>\n",
       "    </tr>\n",
       "  </thead>\n",
       "  <tbody>\n",
       "    <tr>\n",
       "      <th>0</th>\n",
       "      <td>2022</td>\n",
       "      <td>1</td>\n",
       "      <td>1</td>\n",
       "      <td>1</td>\n",
       "      <td>0</td>\n",
       "      <td>0</td>\n",
       "      <td>0.000</td>\n",
       "      <td>112.91</td>\n",
       "      <td>-1.2</td>\n",
       "      <td>0</td>\n",
       "      <td>...</td>\n",
       "      <td>0.4</td>\n",
       "      <td>0</td>\n",
       "      <td>0.0</td>\n",
       "      <td>0</td>\n",
       "      <td>42.8</td>\n",
       "      <td>0</td>\n",
       "      <td>0.0</td>\n",
       "      <td>0.0</td>\n",
       "      <td>0.0</td>\n",
       "      <td>0.0</td>\n",
       "    </tr>\n",
       "    <tr>\n",
       "      <th>1</th>\n",
       "      <td>2022</td>\n",
       "      <td>1</td>\n",
       "      <td>1</td>\n",
       "      <td>1</td>\n",
       "      <td>0</td>\n",
       "      <td>1</td>\n",
       "      <td>0.017</td>\n",
       "      <td>113.10</td>\n",
       "      <td>-1.2</td>\n",
       "      <td>0</td>\n",
       "      <td>...</td>\n",
       "      <td>0.4</td>\n",
       "      <td>0</td>\n",
       "      <td>0.0</td>\n",
       "      <td>0</td>\n",
       "      <td>42.8</td>\n",
       "      <td>0</td>\n",
       "      <td>0.0</td>\n",
       "      <td>0.0</td>\n",
       "      <td>0.0</td>\n",
       "      <td>0.0</td>\n",
       "    </tr>\n",
       "    <tr>\n",
       "      <th>2</th>\n",
       "      <td>2022</td>\n",
       "      <td>1</td>\n",
       "      <td>1</td>\n",
       "      <td>1</td>\n",
       "      <td>0</td>\n",
       "      <td>2</td>\n",
       "      <td>0.033</td>\n",
       "      <td>113.29</td>\n",
       "      <td>-1.2</td>\n",
       "      <td>0</td>\n",
       "      <td>...</td>\n",
       "      <td>0.4</td>\n",
       "      <td>0</td>\n",
       "      <td>0.0</td>\n",
       "      <td>0</td>\n",
       "      <td>42.8</td>\n",
       "      <td>0</td>\n",
       "      <td>0.0</td>\n",
       "      <td>0.0</td>\n",
       "      <td>0.0</td>\n",
       "      <td>0.0</td>\n",
       "    </tr>\n",
       "    <tr>\n",
       "      <th>3</th>\n",
       "      <td>2022</td>\n",
       "      <td>1</td>\n",
       "      <td>1</td>\n",
       "      <td>1</td>\n",
       "      <td>0</td>\n",
       "      <td>3</td>\n",
       "      <td>0.050</td>\n",
       "      <td>113.48</td>\n",
       "      <td>-1.2</td>\n",
       "      <td>0</td>\n",
       "      <td>...</td>\n",
       "      <td>0.4</td>\n",
       "      <td>0</td>\n",
       "      <td>0.0</td>\n",
       "      <td>0</td>\n",
       "      <td>42.8</td>\n",
       "      <td>0</td>\n",
       "      <td>0.0</td>\n",
       "      <td>0.0</td>\n",
       "      <td>0.0</td>\n",
       "      <td>0.0</td>\n",
       "    </tr>\n",
       "    <tr>\n",
       "      <th>4</th>\n",
       "      <td>2022</td>\n",
       "      <td>1</td>\n",
       "      <td>1</td>\n",
       "      <td>1</td>\n",
       "      <td>0</td>\n",
       "      <td>4</td>\n",
       "      <td>0.067</td>\n",
       "      <td>113.67</td>\n",
       "      <td>-1.2</td>\n",
       "      <td>0</td>\n",
       "      <td>...</td>\n",
       "      <td>0.4</td>\n",
       "      <td>0</td>\n",
       "      <td>0.0</td>\n",
       "      <td>0</td>\n",
       "      <td>42.8</td>\n",
       "      <td>0</td>\n",
       "      <td>0.0</td>\n",
       "      <td>0.0</td>\n",
       "      <td>0.0</td>\n",
       "      <td>0.0</td>\n",
       "    </tr>\n",
       "  </tbody>\n",
       "</table>\n",
       "<p>5 rows × 22 columns</p>\n",
       "</div>"
      ],
      "text/plain": [
       "     0   1   2   3   4   5      6       7    8   9   ...   12  13   14  15  \\\n",
       "0  2022   1   1   1   0   0  0.000  112.91 -1.2   0  ...  0.4   0  0.0   0   \n",
       "1  2022   1   1   1   0   1  0.017  113.10 -1.2   0  ...  0.4   0  0.0   0   \n",
       "2  2022   1   1   1   0   2  0.033  113.29 -1.2   0  ...  0.4   0  0.0   0   \n",
       "3  2022   1   1   1   0   3  0.050  113.48 -1.2   0  ...  0.4   0  0.0   0   \n",
       "4  2022   1   1   1   0   4  0.067  113.67 -1.2   0  ...  0.4   0  0.0   0   \n",
       "\n",
       "     16  17   18   19   20   21  \n",
       "0  42.8   0  0.0  0.0  0.0  0.0  \n",
       "1  42.8   0  0.0  0.0  0.0  0.0  \n",
       "2  42.8   0  0.0  0.0  0.0  0.0  \n",
       "3  42.8   0  0.0  0.0  0.0  0.0  \n",
       "4  42.8   0  0.0  0.0  0.0  0.0  \n",
       "\n",
       "[5 rows x 22 columns]"
      ]
     },
     "execution_count": 6,
     "metadata": {},
     "output_type": "execute_result"
    }
   ],
   "source": [
    "data.head()"
   ]
  },
  {
   "cell_type": "code",
   "execution_count": 14,
   "id": "a8397254-62f0-4b68-8696-62b3dcbd7188",
   "metadata": {},
   "outputs": [
    {
     "data": {
      "text/html": [
       "<div>\n",
       "<style scoped>\n",
       "    .dataframe tbody tr th:only-of-type {\n",
       "        vertical-align: middle;\n",
       "    }\n",
       "\n",
       "    .dataframe tbody tr th {\n",
       "        vertical-align: top;\n",
       "    }\n",
       "\n",
       "    .dataframe thead th {\n",
       "        text-align: right;\n",
       "    }\n",
       "</style>\n",
       "<table border=\"1\" class=\"dataframe\">\n",
       "  <thead>\n",
       "    <tr style=\"text-align: right;\">\n",
       "      <th></th>\n",
       "      <th>year</th>\n",
       "      <th>jday</th>\n",
       "      <th>month</th>\n",
       "      <th>day</th>\n",
       "      <th>hour</th>\n",
       "      <th>min</th>\n",
       "      <th>dt</th>\n",
       "      <th>zen</th>\n",
       "      <th>dw_psp</th>\n",
       "      <th>direct</th>\n",
       "      <th>...</th>\n",
       "      <th>uvb_temp</th>\n",
       "      <th>qc_dwpsp</th>\n",
       "      <th>qc_direct</th>\n",
       "      <th>qc_diffuse</th>\n",
       "      <th>qc_uvb</th>\n",
       "      <th>qc_uvb_temp</th>\n",
       "      <th>std_dw_psp</th>\n",
       "      <th>std_direct</th>\n",
       "      <th>std_diffuse</th>\n",
       "      <th>std_uvb</th>\n",
       "    </tr>\n",
       "  </thead>\n",
       "  <tbody>\n",
       "    <tr>\n",
       "      <th>0</th>\n",
       "      <td>2022</td>\n",
       "      <td>1</td>\n",
       "      <td>1</td>\n",
       "      <td>1</td>\n",
       "      <td>0</td>\n",
       "      <td>0</td>\n",
       "      <td>0.000</td>\n",
       "      <td>112.91</td>\n",
       "      <td>-1.2</td>\n",
       "      <td>0</td>\n",
       "      <td>...</td>\n",
       "      <td>0.4</td>\n",
       "      <td>0</td>\n",
       "      <td>0.0</td>\n",
       "      <td>0</td>\n",
       "      <td>42.8</td>\n",
       "      <td>0</td>\n",
       "      <td>0.0</td>\n",
       "      <td>0.0</td>\n",
       "      <td>0.0</td>\n",
       "      <td>0.0</td>\n",
       "    </tr>\n",
       "    <tr>\n",
       "      <th>1</th>\n",
       "      <td>2022</td>\n",
       "      <td>1</td>\n",
       "      <td>1</td>\n",
       "      <td>1</td>\n",
       "      <td>0</td>\n",
       "      <td>1</td>\n",
       "      <td>0.017</td>\n",
       "      <td>113.10</td>\n",
       "      <td>-1.2</td>\n",
       "      <td>0</td>\n",
       "      <td>...</td>\n",
       "      <td>0.4</td>\n",
       "      <td>0</td>\n",
       "      <td>0.0</td>\n",
       "      <td>0</td>\n",
       "      <td>42.8</td>\n",
       "      <td>0</td>\n",
       "      <td>0.0</td>\n",
       "      <td>0.0</td>\n",
       "      <td>0.0</td>\n",
       "      <td>0.0</td>\n",
       "    </tr>\n",
       "    <tr>\n",
       "      <th>2</th>\n",
       "      <td>2022</td>\n",
       "      <td>1</td>\n",
       "      <td>1</td>\n",
       "      <td>1</td>\n",
       "      <td>0</td>\n",
       "      <td>2</td>\n",
       "      <td>0.033</td>\n",
       "      <td>113.29</td>\n",
       "      <td>-1.2</td>\n",
       "      <td>0</td>\n",
       "      <td>...</td>\n",
       "      <td>0.4</td>\n",
       "      <td>0</td>\n",
       "      <td>0.0</td>\n",
       "      <td>0</td>\n",
       "      <td>42.8</td>\n",
       "      <td>0</td>\n",
       "      <td>0.0</td>\n",
       "      <td>0.0</td>\n",
       "      <td>0.0</td>\n",
       "      <td>0.0</td>\n",
       "    </tr>\n",
       "    <tr>\n",
       "      <th>3</th>\n",
       "      <td>2022</td>\n",
       "      <td>1</td>\n",
       "      <td>1</td>\n",
       "      <td>1</td>\n",
       "      <td>0</td>\n",
       "      <td>3</td>\n",
       "      <td>0.050</td>\n",
       "      <td>113.48</td>\n",
       "      <td>-1.2</td>\n",
       "      <td>0</td>\n",
       "      <td>...</td>\n",
       "      <td>0.4</td>\n",
       "      <td>0</td>\n",
       "      <td>0.0</td>\n",
       "      <td>0</td>\n",
       "      <td>42.8</td>\n",
       "      <td>0</td>\n",
       "      <td>0.0</td>\n",
       "      <td>0.0</td>\n",
       "      <td>0.0</td>\n",
       "      <td>0.0</td>\n",
       "    </tr>\n",
       "    <tr>\n",
       "      <th>4</th>\n",
       "      <td>2022</td>\n",
       "      <td>1</td>\n",
       "      <td>1</td>\n",
       "      <td>1</td>\n",
       "      <td>0</td>\n",
       "      <td>4</td>\n",
       "      <td>0.067</td>\n",
       "      <td>113.67</td>\n",
       "      <td>-1.2</td>\n",
       "      <td>0</td>\n",
       "      <td>...</td>\n",
       "      <td>0.4</td>\n",
       "      <td>0</td>\n",
       "      <td>0.0</td>\n",
       "      <td>0</td>\n",
       "      <td>42.8</td>\n",
       "      <td>0</td>\n",
       "      <td>0.0</td>\n",
       "      <td>0.0</td>\n",
       "      <td>0.0</td>\n",
       "      <td>0.0</td>\n",
       "    </tr>\n",
       "  </tbody>\n",
       "</table>\n",
       "<p>5 rows × 22 columns</p>\n",
       "</div>"
      ],
      "text/plain": [
       "   year  jday  month  day  hour  min     dt     zen  dw_psp  direct  ...  \\\n",
       "0  2022     1      1    1     0    0  0.000  112.91    -1.2       0  ...   \n",
       "1  2022     1      1    1     0    1  0.017  113.10    -1.2       0  ...   \n",
       "2  2022     1      1    1     0    2  0.033  113.29    -1.2       0  ...   \n",
       "3  2022     1      1    1     0    3  0.050  113.48    -1.2       0  ...   \n",
       "4  2022     1      1    1     0    4  0.067  113.67    -1.2       0  ...   \n",
       "\n",
       "   uvb_temp  qc_dwpsp  qc_direct  qc_diffuse  qc_uvb  qc_uvb_temp  std_dw_psp  \\\n",
       "0       0.4         0        0.0           0    42.8            0         0.0   \n",
       "1       0.4         0        0.0           0    42.8            0         0.0   \n",
       "2       0.4         0        0.0           0    42.8            0         0.0   \n",
       "3       0.4         0        0.0           0    42.8            0         0.0   \n",
       "4       0.4         0        0.0           0    42.8            0         0.0   \n",
       "\n",
       "   std_direct  std_diffuse  std_uvb  \n",
       "0         0.0          0.0      0.0  \n",
       "1         0.0          0.0      0.0  \n",
       "2         0.0          0.0      0.0  \n",
       "3         0.0          0.0      0.0  \n",
       "4         0.0          0.0      0.0  \n",
       "\n",
       "[5 rows x 22 columns]"
      ]
     },
     "execution_count": 14,
     "metadata": {},
     "output_type": "execute_result"
    }
   ],
   "source": [
    "# Soiurced: https://gml.noaa.gov/aftp/data/radiation/solrad/README_SOLRAD.txt\n",
    "\n",
    "# year\t\tinteger\tyear, i.e., 2002\n",
    "# jday\t\tinteger\tJulian day (1 through 365 [or 366])\n",
    "# month\t\tinteger\tnumber of the month (1-12)\n",
    "# day\t\tinteger\tday of the month(1-31)\n",
    "# hour\t\tinteger\thour of the day (0-23)\n",
    "# min\t\tinteger\tminute of the hour (0-59)\n",
    "# dt\t\treal\tdecimal time (hour.decimalminutes),e. g., 23.5 = 2330\n",
    "# zen\t\treal\tsolar zenith angle (degrees)\n",
    "# dw_psp\t\treal\tdownwelling global solar (Watts m^-2)\n",
    "# direct\t\treal\tdirect solar (Watts m^-2)\n",
    "# diffuse\t\treal\tdownwelling diffuse solar (Watts m^-2)\n",
    "# uvb\t\treal\tglobal UVB (milliWatts m^-2)\n",
    "# uvb_temp    \treal\tUVB temperature (C) -- 25 deg. C is normal\n",
    "# qc_dwpsp\tinteger quality control parameter for downwelling global solar (0=good)\n",
    "# qc_direct\tinteger quality control parameter for direct solar (0=good)\n",
    "# qc_diffuse\tinteger quality control parameter for diffuse solar (0=good)\n",
    "# qc_uvb\t\tinteger quality control parameter for UVB irradiance (0=good)\n",
    "# qc_uvb_temp\tinteger quality control parameter for the UVB instrument temperature (0=good)\n",
    "# std_dw_psp\treal\tstandard deviation of the 1-sec. samples for global solar (dw_psp)\n",
    "# std_direct\treal\tstandard deviation of the 1-sec. samples for direct solar\n",
    "# std_diffuse\treal\tstandard deviation of the 1-sec. samples for diffuse solar\n",
    "# std_uvb\t\treal\tstandard deviation of the 1-sec. samples for uvb\n",
    "\n",
    "data.columns = [\"year\", \"jday\", \"month\", \"day\", \"hour\", \"min\", \"dt\", \"zen\", \"dw_psp\", \"direct\", \"diffuse\", \"uvb\", \"uvb_temp\", \"qc_dwpsp\", \"qc_direct\", \"qc_diffuse\", \"qc_uvb\", \"qc_uvb_temp\", \"std_dw_psp\", \"std_direct\", \"std_diffuse\", \"std_uvb\"]\n",
    "data.head()"
   ]
  },
  {
   "cell_type": "code",
   "execution_count": 17,
   "id": "1aa9b10d-160a-4c73-8525-4cac9d74fc25",
   "metadata": {},
   "outputs": [
    {
     "name": "stdout",
     "output_type": "stream",
     "text": [
      "<class 'pandas.core.frame.DataFrame'>\n",
      "RangeIndex: 1440 entries, 0 to 1439\n",
      "Data columns (total 22 columns):\n",
      " #   Column       Non-Null Count  Dtype  \n",
      "---  ------       --------------  -----  \n",
      " 0   year         1440 non-null   int64  \n",
      " 1   jday         1440 non-null   int64  \n",
      " 2   month        1440 non-null   int64  \n",
      " 3   day          1440 non-null   int64  \n",
      " 4   hour         1440 non-null   int64  \n",
      " 5   min          1440 non-null   int64  \n",
      " 6   dt           1440 non-null   float64\n",
      " 7   zen          1440 non-null   float64\n",
      " 8   dw_psp       1440 non-null   float64\n",
      " 9   direct       1440 non-null   int64  \n",
      " 10  diffuse      1440 non-null   float64\n",
      " 11  uvb          1440 non-null   int64  \n",
      " 12  uvb_temp     1440 non-null   float64\n",
      " 13  qc_dwpsp     1440 non-null   int64  \n",
      " 14  qc_direct    1440 non-null   float64\n",
      " 15  qc_diffuse   1440 non-null   int64  \n",
      " 16  qc_uvb       1440 non-null   float64\n",
      " 17  qc_uvb_temp  1440 non-null   int64  \n",
      " 18  std_dw_psp   1440 non-null   float64\n",
      " 19  std_direct   1440 non-null   float64\n",
      " 20  std_diffuse  1440 non-null   float64\n",
      " 21  std_uvb      1440 non-null   float64\n",
      "dtypes: float64(11), int64(11)\n",
      "memory usage: 247.6 KB\n"
     ]
    }
   ],
   "source": [
    "data.info()"
   ]
  },
  {
   "cell_type": "code",
   "execution_count": 16,
   "id": "9f36925f-e0a1-45d3-aa09-b968016a3eaa",
   "metadata": {},
   "outputs": [
    {
     "ename": "ValueError",
     "evalue": "The truth value of a Series is ambiguous. Use a.empty, a.bool(), a.item(), a.any() or a.all().",
     "output_type": "error",
     "traceback": [
      "\u001b[1;31m---------------------------------------------------------------------------\u001b[0m",
      "\u001b[1;31mValueError\u001b[0m                                Traceback (most recent call last)",
      "\u001b[1;32m~\\AppData\\Local\\Temp/ipykernel_10796/3129342097.py\u001b[0m in \u001b[0;36m<module>\u001b[1;34m\u001b[0m\n\u001b[1;32m----> 1\u001b[1;33m \u001b[0mdata\u001b[0m\u001b[1;33m[\u001b[0m\u001b[1;34m\"timestamp\"\u001b[0m\u001b[1;33m]\u001b[0m \u001b[1;33m=\u001b[0m \u001b[0mpd\u001b[0m\u001b[1;33m.\u001b[0m\u001b[0mTimestamp\u001b[0m\u001b[1;33m(\u001b[0m\u001b[0myear\u001b[0m\u001b[1;33m=\u001b[0m\u001b[0mdata\u001b[0m\u001b[1;33m[\u001b[0m\u001b[1;34m\"year\"\u001b[0m\u001b[1;33m]\u001b[0m\u001b[1;33m,\u001b[0m \u001b[0mmonth\u001b[0m\u001b[1;33m=\u001b[0m\u001b[0mdata\u001b[0m\u001b[1;33m[\u001b[0m\u001b[1;34m\"month\"\u001b[0m\u001b[1;33m]\u001b[0m\u001b[1;33m,\u001b[0m \u001b[0mday\u001b[0m\u001b[1;33m=\u001b[0m\u001b[0mdata\u001b[0m\u001b[1;33m[\u001b[0m\u001b[1;34m\"day\"\u001b[0m\u001b[1;33m]\u001b[0m\u001b[1;33m,\u001b[0m \u001b[0mhour\u001b[0m\u001b[1;33m=\u001b[0m\u001b[0mdata\u001b[0m\u001b[1;33m[\u001b[0m\u001b[1;34m\"hour\"\u001b[0m\u001b[1;33m]\u001b[0m\u001b[1;33m,\u001b[0m \u001b[0mminute\u001b[0m\u001b[1;33m=\u001b[0m\u001b[0mdata\u001b[0m\u001b[1;33m[\u001b[0m\u001b[1;34m\"min\"\u001b[0m\u001b[1;33m]\u001b[0m\u001b[1;33m)\u001b[0m\u001b[1;33m\u001b[0m\u001b[1;33m\u001b[0m\u001b[0m\n\u001b[0m",
      "\u001b[1;32m~\\anaconda3\\envs\\datas_test\\lib\\site-packages\\pandas\\_libs\\tslibs\\timestamps.pyx\u001b[0m in \u001b[0;36mpandas._libs.tslibs.timestamps.Timestamp.__new__\u001b[1;34m()\u001b[0m\n",
      "\u001b[1;32m~\\anaconda3\\envs\\datas_test\\lib\\site-packages\\pandas\\core\\generic.py\u001b[0m in \u001b[0;36m__nonzero__\u001b[1;34m(self)\u001b[0m\n\u001b[0;32m   1533\u001b[0m     \u001b[1;33m@\u001b[0m\u001b[0mfinal\u001b[0m\u001b[1;33m\u001b[0m\u001b[1;33m\u001b[0m\u001b[0m\n\u001b[0;32m   1534\u001b[0m     \u001b[1;32mdef\u001b[0m \u001b[0m__nonzero__\u001b[0m\u001b[1;33m(\u001b[0m\u001b[0mself\u001b[0m\u001b[1;33m)\u001b[0m\u001b[1;33m:\u001b[0m\u001b[1;33m\u001b[0m\u001b[1;33m\u001b[0m\u001b[0m\n\u001b[1;32m-> 1535\u001b[1;33m         raise ValueError(\n\u001b[0m\u001b[0;32m   1536\u001b[0m             \u001b[1;34mf\"The truth value of a {type(self).__name__} is ambiguous. \"\u001b[0m\u001b[1;33m\u001b[0m\u001b[1;33m\u001b[0m\u001b[0m\n\u001b[0;32m   1537\u001b[0m             \u001b[1;34m\"Use a.empty, a.bool(), a.item(), a.any() or a.all().\"\u001b[0m\u001b[1;33m\u001b[0m\u001b[1;33m\u001b[0m\u001b[0m\n",
      "\u001b[1;31mValueError\u001b[0m: The truth value of a Series is ambiguous. Use a.empty, a.bool(), a.item(), a.any() or a.all()."
     ]
    }
   ],
   "source": [
    "data[\"timestamp\"] = data[\"year\"], month=data[\"month\"], day=data[\"day\"], hour=data[\"hour\"], minute=data[\"min\"])"
   ]
  },
  {
   "cell_type": "markdown",
   "id": "97e7d02d",
   "metadata": {},
   "source": [
    "#### 5) Basic Plotting"
   ]
  },
  {
   "cell_type": "code",
   "execution_count": null,
   "id": "4f70d97e-f681-4023-8d1b-b6bed760277c",
   "metadata": {},
   "outputs": [],
   "source": [
    "import matplotlib.pyplot as plt\n",
    "\n",
    "\n",
    "fig, ax = plt.subplots(figsize=(10,10))\n",
    "ax.plot()"
   ]
  },
  {
   "cell_type": "code",
   "execution_count": null,
   "id": "5e3b9cef-a788-46ba-a01c-69d114908cca",
   "metadata": {},
   "outputs": [],
   "source": []
  }
 ],
 "metadata": {
  "kernelspec": {
   "display_name": "Python 3 (ipykernel)",
   "language": "python",
   "name": "python3"
  },
  "language_info": {
   "codemirror_mode": {
    "name": "ipython",
    "version": 3
   },
   "file_extension": ".py",
   "mimetype": "text/x-python",
   "name": "python",
   "nbconvert_exporter": "python",
   "pygments_lexer": "ipython3",
   "version": "3.9.1"
  }
 },
 "nbformat": 4,
 "nbformat_minor": 5
}
