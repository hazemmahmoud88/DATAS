{
 "cells": [
  {
   "cell_type": "markdown",
   "id": "40038eb4",
   "metadata": {},
   "source": [
    "### Introduction to Python for Data Science & Analysis\n",
    "\n",
    "#### This notebook will cover the basics need to get start with Python\n",
    "\n",
    "---\n",
    "From this Notebook you should be able to to: \n",
    "- Setup\n",
    "    - Install Annaconda (a Python software package)\n",
    "    - Github & Jupyter Notebook\n",
    "    - Discover how to be self taught\n",
    "- Programming\n",
    "    - Script Design\n",
    "    - Using Functions\n",
    "    - Import a txt file\n",
    "    - Basic Plotting\n",
    "    \n",
    "    \n",
    "##### Author: Maurice Roots (05/08/2022)"
   ]
  },
  {
   "cell_type": "markdown",
   "id": "69346da5",
   "metadata": {},
   "source": [
    "### Setup\n",
    "---"
   ]
  },
  {
   "cell_type": "markdown",
   "id": "121883e9",
   "metadata": {},
   "source": [
    "First you need to dowload the required software. \n",
    "Python is not softawre. It is a language that can be installed on your computer. However, we will install Annaconda so that you will have access to usefull software that works with Python. What we need from Annaconda is scripting environment (Spyder), a terminal to install packages (I'll explain that later), and a way to combine writing & code (jupyter notebook). Yes, this is a jupyter notebook. See how nicely I have combined code and writing? "
   ]
  },
  {
   "cell_type": "markdown",
   "id": "f54b32b1",
   "metadata": {},
   "source": [
    "#### 1) Annaconda\n",
    "To download Annaconda use this link: \n",
    "    - Follow the installation too to completion."
   ]
  },
  {
   "cell_type": "markdown",
   "id": "b1948a99",
   "metadata": {},
   "source": [
    "#### 2) Github\n",
    "Github is a software/company that allows you to easliy share code. Yes this notebook is hosted on my github. \n",
    "\n",
    "First go to github.com create an account. \n",
    "Then download the github desktop client from here \n"
   ]
  },
  {
   "cell_type": "markdown",
   "id": "c1636639",
   "metadata": {},
   "source": [
    "### Programming\n",
    "---\n",
    "Python is a pretty cool programming language. It has a large list a capabilities, but its main draw is that Python is open-source. This means that its maintenance, packages, functionality, and progression are dictated by crowd sourcing. Anyone can write a Python package! Shoot, you found this tutorial nested in a package that I am writing.\n",
    "\n",
    "The syntax of Python is similar to other languages like MATLAB and C++ with differences being that python does not require a \" ; \" at the end of lines, loops n' such do not require a end statement, **commments** are written with \"#\", and variables do not need to be pre-allocatd or declared before assignment. "
   ]
  },
  {
   "cell_type": "code",
   "execution_count": 21,
   "id": "b8e0179d",
   "metadata": {},
   "outputs": [
    {
     "name": "stdout",
     "output_type": "stream",
     "text": [
      "5\n",
      "-1\n",
      "6\n",
      "0.6666666666666666\n",
      "8\n"
     ]
    }
   ],
   "source": [
    "# Python Arithematic \n",
    "a = 2\n",
    "b = 3\n",
    "\n",
    "print(a + b) # Addition\n",
    "print(a - b) # Subtractions\n",
    "print(a*b)   # Multiplication\n",
    "print(a / b) # Division\n",
    "print(a**b)  # Exponetials\n",
    "\n",
    "# Check the ouput with a calculate (or google) to make sure these are correct"
   ]
  },
  {
   "cell_type": "code",
   "execution_count": 22,
   "id": "ba99d6df",
   "metadata": {},
   "outputs": [
    {
     "name": "stdout",
     "output_type": "stream",
     "text": [
      "2\n",
      "1\n",
      "5\n"
     ]
    },
    {
     "ename": "IndexError",
     "evalue": "list index out of range",
     "output_type": "error",
     "traceback": [
      "\u001b[1;31m---------------------------------------------------------------------------\u001b[0m",
      "\u001b[1;31mIndexError\u001b[0m                                Traceback (most recent call last)",
      "\u001b[1;32m~\\AppData\\Local\\Temp/ipykernel_2372/3364730438.py\u001b[0m in \u001b[0;36m<module>\u001b[1;34m\u001b[0m\n\u001b[0;32m      6\u001b[0m \u001b[0mprint\u001b[0m\u001b[1;33m(\u001b[0m\u001b[0mc\u001b[0m\u001b[1;33m[\u001b[0m\u001b[1;36m0\u001b[0m\u001b[1;33m]\u001b[0m\u001b[1;33m)\u001b[0m         \u001b[1;31m# First element of list\u001b[0m\u001b[1;33m\u001b[0m\u001b[1;33m\u001b[0m\u001b[0m\n\u001b[0;32m      7\u001b[0m \u001b[0mprint\u001b[0m\u001b[1;33m(\u001b[0m\u001b[0mc\u001b[0m\u001b[1;33m[\u001b[0m\u001b[1;33m-\u001b[0m\u001b[1;36m1\u001b[0m\u001b[1;33m]\u001b[0m\u001b[1;33m)\u001b[0m        \u001b[1;31m# Last Element of list\u001b[0m\u001b[1;33m\u001b[0m\u001b[1;33m\u001b[0m\u001b[0m\n\u001b[1;32m----> 8\u001b[1;33m \u001b[0mprint\u001b[0m\u001b[1;33m(\u001b[0m\u001b[0mc\u001b[0m\u001b[1;33m[\u001b[0m\u001b[1;36m5\u001b[0m\u001b[1;33m]\u001b[0m\u001b[1;33m)\u001b[0m\u001b[1;33m\u001b[0m\u001b[1;33m\u001b[0m\u001b[0m\n\u001b[0m\u001b[0;32m      9\u001b[0m \u001b[1;33m\u001b[0m\u001b[0m\n\u001b[0;32m     10\u001b[0m \u001b[1;31m# Check these for yourself\u001b[0m\u001b[1;33m\u001b[0m\u001b[1;33m\u001b[0m\u001b[1;33m\u001b[0m\u001b[0m\n",
      "\u001b[1;31mIndexError\u001b[0m: list index out of range"
     ]
    }
   ],
   "source": [
    "# Python Indexing \n",
    "\n",
    "c = [1, 2, 3, 4, 5] # List\n",
    "\n",
    "print(c[1])         # Second element of list\n",
    "print(c[0])         # First element of list\n",
    "print(c[-1])        # Last Element of list\n",
    "print(c[5])\n",
    "\n",
    "# Check these for yourself"
   ]
  },
  {
   "cell_type": "code",
   "execution_count": 23,
   "id": "55d9e530",
   "metadata": {},
   "outputs": [
    {
     "name": "stdout",
     "output_type": "stream",
     "text": [
      "0.667\n",
      "range(2, 10, 2)\n",
      "5\n"
     ]
    }
   ],
   "source": [
    "# USeful Built in Functions \n",
    "print(round(a / b, 3)) # Round a number, round(number, decimal-place)\n",
    "print(range(2, 10, 2)) # Returns a range of even spaced numbers, range(start, stop, spacing)\n",
    "print(len(c))          # Returns the length of input\n",
    "\n",
    "\n",
    "# Check these for yourself to make sure they are correct and make sense"
   ]
  },
  {
   "cell_type": "code",
   "execution_count": null,
   "id": "9c7eac30",
   "metadata": {},
   "outputs": [],
   "source": []
  },
  {
   "cell_type": "markdown",
   "id": "11ae7d46",
   "metadata": {},
   "source": [
    "#### 3) Functions !!!!"
   ]
  },
  {
   "cell_type": "code",
   "execution_count": 41,
   "id": "cb82a0ac",
   "metadata": {},
   "outputs": [
    {
     "data": {
      "text/plain": [
       "3.0"
      ]
     },
     "execution_count": 41,
     "metadata": {},
     "output_type": "execute_result"
    }
   ],
   "source": [
    "def simple_average(some_list):\n",
    "    length = len(some_list)\n",
    "    summation = 0\n",
    "    for i in range(length): \n",
    "        summation += some_list[i]\n",
    "    average = summation / length\n",
    "    return average\n",
    "    \n",
    "simple_average(c)"
   ]
  },
  {
   "cell_type": "code",
   "execution_count": 35,
   "id": "28b36870",
   "metadata": {},
   "outputs": [
    {
     "data": {
      "text/plain": [
       "3.0"
      ]
     },
     "execution_count": 35,
     "metadata": {},
     "output_type": "execute_result"
    }
   ],
   "source": [
    "import numpy as np\n",
    "np.mean(c)"
   ]
  },
  {
   "cell_type": "markdown",
   "id": "f133a9b1",
   "metadata": {},
   "source": [
    "#### 4)  Importing Data"
   ]
  },
  {
   "cell_type": "code",
   "execution_count": 1,
   "id": "2f97e74e-5f9b-41a1-b00e-d4ef2536fb94",
   "metadata": {},
   "outputs": [
    {
     "ename": "NameError",
     "evalue": "name 'pd' is not defined",
     "output_type": "error",
     "traceback": [
      "\u001b[1;31m---------------------------------------------------------------------------\u001b[0m",
      "\u001b[1;31mNameError\u001b[0m                                 Traceback (most recent call last)",
      "\u001b[1;32m~\\AppData\\Local\\Temp/ipykernel_10796/34321458.py\u001b[0m in \u001b[0;36m<module>\u001b[1;34m\u001b[0m\n\u001b[1;32m----> 1\u001b[1;33m \u001b[0mdata\u001b[0m \u001b[1;33m=\u001b[0m \u001b[0mpd\u001b[0m\u001b[1;33m.\u001b[0m\u001b[0mread_csv\u001b[0m\u001b[1;33m(\u001b[0m\u001b[1;34mr\"C:\\Users\\Magnolia\\OneDrive - UMBC\\Research\\Analysis\\DATAS\\datas\\tutorials\\data\\ste22001.dat\"\u001b[0m\u001b[1;33m,\u001b[0m \u001b[0msep\u001b[0m\u001b[1;33m=\u001b[0m\u001b[1;34m\"\\s+\"\u001b[0m\u001b[1;33m,\u001b[0m \u001b[0mskiprows\u001b[0m\u001b[1;33m=\u001b[0m\u001b[1;36m2\u001b[0m\u001b[1;33m)\u001b[0m\u001b[1;33m\u001b[0m\u001b[1;33m\u001b[0m\u001b[0m\n\u001b[0m",
      "\u001b[1;31mNameError\u001b[0m: name 'pd' is not defined"
     ]
    }
   ],
   "source": [
    "data = pd.read_csv(r\"C:\\Users\\Magnolia\\OneDrive - UMBC\\Research\\Analysis\\DATAS\\datas\\tutorials\\data\\ste22001.dat\", sep=\"\\s+\", skiprows=2)"
   ]
  },
  {
   "cell_type": "markdown",
   "id": "97e7d02d",
   "metadata": {},
   "source": [
    "#### 5) Basic Plotting"
   ]
  }
 ],
 "metadata": {
  "kernelspec": {
   "display_name": "Python 3 (ipykernel)",
   "language": "python",
   "name": "python3"
  },
  "language_info": {
   "codemirror_mode": {
    "name": "ipython",
    "version": 3
   },
   "file_extension": ".py",
   "mimetype": "text/x-python",
   "name": "python",
   "nbconvert_exporter": "python",
   "pygments_lexer": "ipython3",
   "version": "3.9.1"
  }
 },
 "nbformat": 4,
 "nbformat_minor": 5
}
